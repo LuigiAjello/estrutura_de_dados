{
  "nbformat": 4,
  "nbformat_minor": 0,
  "metadata": {
    "colab": {
      "provenance": [],
      "authorship_tag": "ABX9TyNiaisdWoEMGb1F4gFkRqNy",
      "include_colab_link": true
    },
    "kernelspec": {
      "name": "python3",
      "display_name": "Python 3"
    },
    "language_info": {
      "name": "python"
    }
  },
  "cells": [
    {
      "cell_type": "markdown",
      "metadata": {
        "id": "view-in-github",
        "colab_type": "text"
      },
      "source": [
        "<a href=\"https://colab.research.google.com/github/LuigiAjello/estrutura_de_dados/blob/main/ibmec_edb2_operacoes_pilhas.ipynb\" target=\"_parent\"><img src=\"https://colab.research.google.com/assets/colab-badge.svg\" alt=\"Open In Colab\"/></a>"
      ]
    },
    {
      "cell_type": "code",
      "execution_count": null,
      "metadata": {
        "id": "NVG3LzBT3J4v"
      },
      "outputs": [],
      "source": [
        "#DevLab 10- B2- Operacao com pilhas"
      ]
    },
    {
      "cell_type": "code",
      "source": [
        "#definindo uma pilha com um array\n",
        "size = 3 # tamanho de pilha (array)\n",
        "data = [0] * (size)\n",
        "top = -1 # variavel global\n",
        "\n",
        "#in\n",
        "def push(x):\n",
        "  global top\n",
        "  if top >= size - 1:\n",
        "    print(\"Stack Overflow\")\n",
        "  else:\n",
        "    top = top +1\n",
        "    data[top] = x\n",
        "\n",
        "#teste da pilha\n",
        "\n",
        "push(\"Ludmila\")\n",
        "push(\"Isabella\")\n",
        "push(\"Luigi\")\n",
        "\n",
        "#veja como esta a pilha\n",
        "print(data[0:top +1])\n",
        "\n",
        "#vamos tentar extrapolar o tamanho da pilha\n",
        "print(\">> tento executar uma operacao alem da capacidade da pilha!\")\n",
        "push(\"Lucas\")\n",
        "\n",
        "#retirar valores na pilha\n",
        "def pop():\n",
        "  global top\n",
        "  if top == -1: #a lista esta vazia\n",
        "    print(\"Stack Underflow\")\n",
        "  else:\n",
        "    top = top -1\n",
        "    data[top] = 0\n",
        "    return data[top+1]\n",
        "\n",
        "# Teste do método pop()\n",
        "print(\">> antes da execução pop()\", data[0 : top + 1])\n",
        "pop()\n",
        "pop()\n",
        "pop()\n",
        "print(\">> depois da execução pop()\", data[0 : top + 1])\n",
        "\n",
        "#olhar o valores na pilha\n",
        "def peek():\n",
        "  global top\n",
        "  if top == -1:\n",
        "    print(\"stack is empty\")\n",
        "  else:\n",
        "    print(data[top])\n",
        "\n",
        "#teste do método\n",
        "print('>> execuçao peek()')\n",
        "peek()\n",
        "\n",
        "#só para testar\n",
        "push(\"Ludmila\")\n",
        "push(\"Isabella\")\n",
        "push(\"Luigi\")\n",
        "\n",
        "peek()"
      ],
      "metadata": {
        "colab": {
          "base_uri": "https://localhost:8080/"
        },
        "id": "Y0aVE26B39Tg",
        "outputId": "6d4820d9-2924-4699-d607-3118a1f97da6"
      },
      "execution_count": null,
      "outputs": [
        {
          "output_type": "stream",
          "name": "stdout",
          "text": [
            "['Ludmila', 'Isabella', 'Luigi']\n",
            ">> tento executar uma operacao alem da capacidade da pilha!\n",
            "Stack Overflow\n",
            ">> antes da execução pop() ['Ludmila', 'Isabella', 'Luigi']\n",
            ">> depois da execução pop() []\n",
            ">> execuçao peek()\n",
            "stack is empty\n",
            "Luigi\n"
          ]
        }
      ]
    }
  ]
}