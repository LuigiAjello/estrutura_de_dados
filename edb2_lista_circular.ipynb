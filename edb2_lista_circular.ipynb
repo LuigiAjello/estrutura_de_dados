{
  "nbformat": 4,
  "nbformat_minor": 0,
  "metadata": {
    "colab": {
      "provenance": [],
      "authorship_tag": "ABX9TyNvm5riKHaIV8wD6lTZU9W1",
      "include_colab_link": true
    },
    "kernelspec": {
      "name": "python3",
      "display_name": "Python 3"
    },
    "language_info": {
      "name": "python"
    }
  },
  "cells": [
    {
      "cell_type": "markdown",
      "metadata": {
        "id": "view-in-github",
        "colab_type": "text"
      },
      "source": [
        "<a href=\"https://colab.research.google.com/github/LuigiAjello/estrutura_de_dados/blob/main/edb2_lista_circular.ipynb\" target=\"_parent\"><img src=\"https://colab.research.google.com/assets/colab-badge.svg\" alt=\"Open In Colab\"/></a>"
      ]
    },
    {
      "cell_type": "code",
      "execution_count": null,
      "metadata": {
        "id": "f42Z-_Ksej5M"
      },
      "outputs": [],
      "source": [
        "#DevLab6 -B2 - codificacao de uma lista circular em pyhton com operacoes circulares\n",
        "class Node:\n",
        "  def __init__(self, data = None, next = None, prev = None):\n",
        "    self.data = data\n",
        "    self.next = next\n",
        "    self.prev = prev"
      ]
    },
    {
      "cell_type": "code",
      "source": [
        "class CircularList:\n",
        "  def __init__(self):\n",
        "    self.head = None\n",
        "    self.tail = None\n",
        "    self.size = 0\n",
        "\n",
        "  def append(self,data):\n",
        "    new_node = Node(data)\n",
        "    if self.tail:\n",
        "      self.tail.next = new_node\n",
        "      self.tail = new_node\n",
        "      new_node.next = self.head\n",
        "    else:\n",
        "      self.head = new_node\n",
        "      self.tail = new_node\n",
        "      self.tail.next = self.tail\n",
        "    self.size += 1\n",
        "  #iteracao dos registros da lista\n",
        "  def iter(self):\n",
        "      if not self.head:\n",
        "          return\n",
        "      current = self.head\n",
        "      while True:\n",
        "          yield current.data\n",
        "          current = current.next\n",
        "          if current == self.head:\n",
        "              break\n",
        "#---------------------------------------------\n",
        "\n",
        "\n",
        " # deleta um nó na lista\n",
        "  def delete(self, data):\n",
        "      current = self.head\n",
        "      prev = self.head\n",
        "      is_no_deletado = False\n",
        "\n",
        "      # checa se a lista está vazia antes de começar\n",
        "      if self.size == 0:\n",
        "          print('A lista está vazia')\n",
        "          return\n",
        "\n",
        "      while prev == current or prev != self.tail:\n",
        "          if current.data == data:\n",
        "              if current == self.head:\n",
        "                  self.head = current.next\n",
        "                  self.tail.next = self.head\n",
        "                  is_no_deletado = True\n",
        "              elif current == self.tail:\n",
        "                  self.tail = prev\n",
        "                  prev.next = self.head\n",
        "                  is_no_deletado = True\n",
        "              else:\n",
        "                  prev.next = current.next\n",
        "                  is_no_deletado = True\n",
        "\n",
        "              self.size -= 1\n",
        "              return  # retorna imediatamente após deletar\n",
        "\n",
        "          prev = current\n",
        "          current = current.next\n",
        "\n",
        "      if is_no_deletado is False:\n",
        "          print(\"Item não encontrado!\")\n"
      ],
      "metadata": {
        "id": "NFvOND1bfNUY"
      },
      "execution_count": null,
      "outputs": []
    },
    {
      "cell_type": "code",
      "source": [
        "alunos = CircularList()\n",
        "alunos.append('Isabella')\n",
        "alunos.append('Luigi')\n",
        "alunos.append('Lucas')\n",
        "alunos.append('Pedro')\n",
        "alunos.append('Ludmila')\n",
        "\n",
        "# Tentar deletar um registro que não existe\n",
        "print(\"\\n[1] Tentando deletar um registro que não existe:\")\n",
        "alunos.delete('Bruno')\n",
        "\n",
        "print(\"Lista atual:\")\n",
        "for aluno in alunos.iter():\n",
        "    print(aluno)\n",
        "\n",
        "# Deletar no começo\n",
        "print(\"\\n[2] Deletando aluno no começo (Isabella):\")\n",
        "alunos.delete('Isabella')\n",
        "\n",
        "print(\"Lista atual:\")\n",
        "for aluno in alunos.iter():\n",
        "    print(aluno)\n",
        "\n",
        "# Deletar no final\n",
        "print(\"\\n[3] Deletando aluno no final (Ludmila):\")\n",
        "alunos.delete('Ludmila')\n",
        "\n",
        "print(\"Lista atual:\")\n",
        "for aluno in alunos.iter():\n",
        "    print(aluno)\n",
        "\n",
        "# Deletar no meio\n",
        "print(\"\\n[4] Deletando aluno no meio (Lucas):\")\n",
        "alunos.delete('Lucas')\n",
        "\n",
        "print(\"Lista final:\")\n",
        "for aluno in alunos.iter():\n",
        "    print(aluno)"
      ],
      "metadata": {
        "colab": {
          "base_uri": "https://localhost:8080/"
        },
        "id": "sabcJ-RzgiON",
        "outputId": "e8e414eb-97a2-4949-9aea-652529755e9f"
      },
      "execution_count": null,
      "outputs": [
        {
          "output_type": "stream",
          "name": "stdout",
          "text": [
            "\n",
            "[1] Tentando deletar um registro que não existe:\n",
            "Item não encontrado!\n",
            "Lista atual:\n",
            "Isabella\n",
            "Luigi\n",
            "Lucas\n",
            "Pedro\n",
            "Ludmila\n",
            "\n",
            "[2] Deletando aluno no começo (Isabella):\n",
            "Lista atual:\n",
            "Luigi\n",
            "Lucas\n",
            "Pedro\n",
            "Ludmila\n",
            "\n",
            "[3] Deletando aluno no final (Ludmila):\n",
            "Lista atual:\n",
            "Luigi\n",
            "Lucas\n",
            "Pedro\n",
            "\n",
            "[4] Deletando aluno no meio (Lucas):\n",
            "Lista final:\n",
            "Luigi\n",
            "Pedro\n"
          ]
        }
      ]
    },
    {
      "cell_type": "code",
      "source": [],
      "metadata": {
        "id": "IzxStv6Kor4w"
      },
      "execution_count": null,
      "outputs": []
    }
  ]
}