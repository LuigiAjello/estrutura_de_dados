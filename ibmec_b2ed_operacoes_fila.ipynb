{
  "nbformat": 4,
  "nbformat_minor": 0,
  "metadata": {
    "colab": {
      "provenance": [],
      "authorship_tag": "ABX9TyPOp4kKjssixzz7kxlpumnb",
      "include_colab_link": true
    },
    "kernelspec": {
      "name": "python3",
      "display_name": "Python 3"
    },
    "language_info": {
      "name": "python"
    }
  },
  "cells": [
    {
      "cell_type": "markdown",
      "metadata": {
        "id": "view-in-github",
        "colab_type": "text"
      },
      "source": [
        "<a href=\"https://colab.research.google.com/github/LuigiAjello/estrutura_de_dados/blob/main/ibmec_b2ed_operacoes_fila.ipynb\" target=\"_parent\"><img src=\"https://colab.research.google.com/assets/colab-badge.svg\" alt=\"Open In Colab\"/></a>"
      ]
    },
    {
      "cell_type": "code",
      "execution_count": null,
      "metadata": {
        "id": "6poWJvxaavT7"
      },
      "outputs": [],
      "source": [
        "class listaFila:\n",
        "  def __init__(self,size):#metodo construtor\n",
        "    self.itens = [] #array que dara suporte a nossa fila\n",
        "    self.front = 0\n",
        "    self.rear = 0\n",
        "    self.size = size #numero maximo da fila\n",
        "\n",
        "#insere registro na fila\n",
        "  def enqueue(self,data):\n",
        "    if self.size == self.rear:\n",
        "      print(\"\\n A fila esta cheia\")\n",
        "    else:\n",
        "      self.itens.append(data)\n",
        "      self.rear += 1 #incrementea o final da fila\n",
        "\n",
        "  #retira registra na fila\n",
        "  def dequeue(self):\n",
        "    if self.front==self.rear:\n",
        "        print(\"\\n A fila esta vazia!\")\n",
        "    else:\n",
        "      data=self.itens.pop(0)\n",
        "      self.rear-=1 #decrementa o final da fila\n",
        "\n",
        "\n",
        "  def size (self):\n",
        "    if self.front == self.rear:\n",
        "      print(\"\\n A fila esta vazia!\")\n",
        "    else:\n",
        "      print(\">> o tamanho da fila eh:\", len(self.size))\n",
        "\n"
      ]
    },
    {
      "cell_type": "code",
      "source": [
        "#Teste implementacao da fila\n",
        "fila = listaFila(size=4)\n",
        "fila.enqueue(\"isabella\")\n",
        "fila.enqueue(\"ludmila\")\n",
        "fila.enqueue(\"lucas\")\n",
        "\n",
        "#verifica a fila criada\n",
        "print(fila.itens)\n",
        "\n",
        "#verificar se a lista esta cheia\n",
        "fila.enqueue(\"Luigi\")\n",
        "fila.enqueue(\"Bruno\")\n",
        "print(fila.itens)\n",
        "\n",
        "#teste do \"deenfileiramento\" da fila\n",
        "elemento = fila.dequeue()#retirar o primeiro elemento que entrou na fila\n",
        "print(\">>(print1) elemento na posicao da fila\", elemento)\n",
        "\n",
        "elemento = fila.dequeue()#retirar o primeiro elemento que entrou na fila\n",
        "print(\">>(print2) elemento na posicao da fila\", elemento)\n",
        "\n",
        "#teste o metodo get_size() da fila\n"
      ],
      "metadata": {
        "colab": {
          "base_uri": "https://localhost:8080/"
        },
        "id": "scadAkvyiygZ",
        "outputId": "01e16eb6-6251-4248-d6fb-016deea71726"
      },
      "execution_count": null,
      "outputs": [
        {
          "output_type": "stream",
          "name": "stdout",
          "text": [
            "['isabella', 'ludmila', 'lucas']\n",
            "\n",
            " A fila esta cheia\n",
            "['isabella', 'ludmila', 'lucas', 'Luigi']\n",
            ">>(print1) elemento na posicao da fila None\n",
            ">>(print2) elemento na posicao da fila None\n"
          ]
        }
      ]
    }
  ]
}