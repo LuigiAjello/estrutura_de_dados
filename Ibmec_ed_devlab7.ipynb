{
  "nbformat": 4,
  "nbformat_minor": 0,
  "metadata": {
    "colab": {
      "provenance": [],
      "authorship_tag": "ABX9TyPW5iXAEqKh9sLaWwgaFobj",
      "include_colab_link": true
    },
    "kernelspec": {
      "name": "python3",
      "display_name": "Python 3"
    },
    "language_info": {
      "name": "python"
    }
  },
  "cells": [
    {
      "cell_type": "markdown",
      "metadata": {
        "id": "view-in-github",
        "colab_type": "text"
      },
      "source": [
        "<a href=\"https://colab.research.google.com/github/LuigiAjello/estrutura_de_dados/blob/main/Ibmec_ed_devlab7.ipynb\" target=\"_parent\"><img src=\"https://colab.research.google.com/assets/colab-badge.svg\" alt=\"Open In Colab\"/></a>"
      ]
    },
    {
      "cell_type": "code",
      "source": [
        "class Node:\n",
        "  def __init__ (self, data= None) -> None:\n",
        "    self.data = data\n",
        "    self.next = None\n"
      ],
      "metadata": {
        "id": "4lEnFdJ-fd6r"
      },
      "execution_count": 9,
      "outputs": []
    },
    {
      "cell_type": "code",
      "execution_count": 51,
      "metadata": {
        "id": "tXDUV_Rud5UD"
      },
      "outputs": [],
      "source": [
        "##Devlab7 - manipulacao de lista e append\n",
        "\n",
        "\n",
        "class ListaSimplesmenteEncateada:\n",
        "  #atributos da classe(variavel global)\n",
        "  qtd_registros = 0\n",
        "  #metodo construtor\n",
        "  def __init__(self):\n",
        "    self.head = None\n",
        "    self.tail = None\n",
        "\n",
        "  #funcao de insercao\n",
        "  def append(self,data):\n",
        "    #variavel local\n",
        "    node = Node(data)\n",
        "    if self.head is None:\n",
        "      self.head = node\n",
        "    else:\n",
        "      #descubro quem é o elemento 1 da lista\n",
        "      current = self.head\n",
        "\n",
        "      #percorrer a lista para alocar os ponteiros\n",
        "\n",
        "      while current.next:\n",
        "        current = current.next\n",
        "      #ao final da lista, parametrizamos o ponteiro para None\n",
        "      current.next = node\n",
        "  def append_at_location(self,data,index):\n",
        "    current = self.head\n",
        "    anterior = self.head\n",
        "    node = Node(data)\n",
        "    count = 1\n",
        "\n",
        "    while current :\n",
        "      if count == 1:\n",
        "        node.next = current\n",
        "        self.head= node\n",
        "\n",
        "        return\n",
        "      elif index == index:\n",
        "        node.next = current\n",
        "        anterior.next = node\n",
        "        return\n",
        "\n",
        "      count += 1\n",
        "      anterior = current\n",
        "      current  = current.next\n",
        "\n",
        "      if count < index:\n",
        "        print(\"A lista nao tem o indice encontrado\")\n",
        "\n",
        "  #iterar a lista insteira\n",
        "  def iter (self):\n",
        "    current = self.head\n",
        "    while current:\n",
        "      val = current.data\n",
        "      current = current.next\n",
        "      yield val\n",
        "  #busca na lista\n",
        "  def search(self,data):\n",
        "    for node in self.iter():\n",
        "      if data == node:\n",
        "        return True\n",
        "    return False\n",
        "\n",
        "  #metodo calculo do tamanho da lista\n",
        "  def size(self):\n",
        "    count = 0\n",
        "    current = self.head\n",
        "    while current:\n",
        "      count += 1\n",
        "      current = current.next\n",
        "    return count\n",
        "\n"
      ]
    },
    {
      "cell_type": "code",
      "source": [
        "#vamos utilizar a nossa ListaSimplismenteEncadeada\n",
        "lt_palavras = ListaSimplesmenteEncateada()\n",
        "\n",
        "lt_palavras.append('kart')\n",
        "lt_palavras.append('basquete')\n",
        "lt_palavras.append('futebol')\n",
        "lt_palavras.append('corrida')\n",
        "lt_palavras.append('tenis')\n",
        "current = lt_palavras.head\n",
        "\n",
        "\n",
        "#percorrer a lista e printar\n",
        "while current:\n",
        "   print(current.data)\n",
        "   current= current.next\n",
        "\n",
        "#teste do metodo search()\n",
        "print('\\nO valor foi encontrado?', lt_palavras.search(\"futebol\"))\n",
        "\n",
        "#\n",
        "print(\"O tamanho da lista é: \",lt_palavras.size())\n",
        "\n",
        "\n",
        "''' @BUG\n",
        "#acrescentar em uma posicao especifica\n",
        "lt_palavras.append_at_location(\"judo\",3)\n",
        "'''"
      ],
      "metadata": {
        "colab": {
          "base_uri": "https://localhost:8080/",
          "height": 178
        },
        "id": "VhnNizxZfbck",
        "outputId": "5baf4892-cd34-4493-a456-a0ced9745d76"
      },
      "execution_count": 52,
      "outputs": [
        {
          "output_type": "stream",
          "name": "stdout",
          "text": [
            "kart\n",
            "basquete\n",
            "futebol\n",
            "corrida\n",
            "tenis\n",
            "\n",
            "O valor foi encontrado? True\n",
            "O tamanho da lista é:  5\n"
          ]
        },
        {
          "output_type": "execute_result",
          "data": {
            "text/plain": [
              "' @BUG\\n#acrescentar em uma posicao especifica\\nlt_palavras.append_at_location(\"judo\",3)\\n'"
            ],
            "application/vnd.google.colaboratory.intrinsic+json": {
              "type": "string"
            }
          },
          "metadata": {},
          "execution_count": 52
        }
      ]
    },
    {
      "cell_type": "code",
      "source": [],
      "metadata": {
        "id": "1Tvo7Ja7jh0_"
      },
      "execution_count": null,
      "outputs": []
    }
  ]
}